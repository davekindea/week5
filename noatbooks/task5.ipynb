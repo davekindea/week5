{
 "cells": [
  {
   "cell_type": "code",
   "execution_count": 1,
   "metadata": {},
   "outputs": [],
   "source": [
    "labels = [\"O\", \"I-BRAND\", \"B-BRAND\", \"B-PRODUCT\",\"I-PRODUCT\", \"I-PRICE\",\"B-PRICE\", \"B-LOC\", \"I-LOC\"]  \n",
    "num_labels = len(labels)"
   ]
  },
  {
   "cell_type": "code",
   "execution_count": 2,
   "metadata": {},
   "outputs": [
    {
     "name": "stderr",
     "output_type": "stream",
     "text": [
      "c:\\Users\\user\\AppData\\Local\\Programs\\Python\\Python312\\Lib\\site-packages\\tqdm\\auto.py:21: TqdmWarning: IProgress not found. Please update jupyter and ipywidgets. See https://ipywidgets.readthedocs.io/en/stable/user_install.html\n",
      "  from .autonotebook import tqdm as notebook_tqdm\n"
     ]
    }
   ],
   "source": [
    "import shap\n",
    "import torch\n",
    "from transformers import XLMRobertaTokenizer, XLMRobertaForTokenClassification\n"
   ]
  },
  {
   "cell_type": "code",
   "execution_count": 3,
   "metadata": {},
   "outputs": [
    {
     "name": "stderr",
     "output_type": "stream",
     "text": [
      "c:\\Users\\user\\AppData\\Local\\Programs\\Python\\Python312\\Lib\\site-packages\\transformers\\tokenization_utils_base.py:1617: FutureWarning: `clean_up_tokenization_spaces` was not set. It will be set to `True` by default. This behavior will be deprecated in transformers v4.45, and will be then set to `False` by default. For more details check this issue: https://github.com/huggingface/transformers/issues/31884\n",
      "  warnings.warn(\n",
      "Some weights of XLMRobertaForTokenClassification were not initialized from the model checkpoint at xlm-roberta-base and are newly initialized: ['classifier.bias', 'classifier.weight']\n",
      "You should probably TRAIN this model on a down-stream task to be able to use it for predictions and inference.\n"
     ]
    },
    {
     "data": {
      "text/plain": [
       "XLMRobertaForTokenClassification(\n",
       "  (roberta): XLMRobertaModel(\n",
       "    (embeddings): XLMRobertaEmbeddings(\n",
       "      (word_embeddings): Embedding(250002, 768, padding_idx=1)\n",
       "      (position_embeddings): Embedding(514, 768, padding_idx=1)\n",
       "      (token_type_embeddings): Embedding(1, 768)\n",
       "      (LayerNorm): LayerNorm((768,), eps=1e-05, elementwise_affine=True)\n",
       "      (dropout): Dropout(p=0.1, inplace=False)\n",
       "    )\n",
       "    (encoder): XLMRobertaEncoder(\n",
       "      (layer): ModuleList(\n",
       "        (0-11): 12 x XLMRobertaLayer(\n",
       "          (attention): XLMRobertaAttention(\n",
       "            (self): XLMRobertaSdpaSelfAttention(\n",
       "              (query): Linear(in_features=768, out_features=768, bias=True)\n",
       "              (key): Linear(in_features=768, out_features=768, bias=True)\n",
       "              (value): Linear(in_features=768, out_features=768, bias=True)\n",
       "              (dropout): Dropout(p=0.1, inplace=False)\n",
       "            )\n",
       "            (output): XLMRobertaSelfOutput(\n",
       "              (dense): Linear(in_features=768, out_features=768, bias=True)\n",
       "              (LayerNorm): LayerNorm((768,), eps=1e-05, elementwise_affine=True)\n",
       "              (dropout): Dropout(p=0.1, inplace=False)\n",
       "            )\n",
       "          )\n",
       "          (intermediate): XLMRobertaIntermediate(\n",
       "            (dense): Linear(in_features=768, out_features=3072, bias=True)\n",
       "            (intermediate_act_fn): GELUActivation()\n",
       "          )\n",
       "          (output): XLMRobertaOutput(\n",
       "            (dense): Linear(in_features=3072, out_features=768, bias=True)\n",
       "            (LayerNorm): LayerNorm((768,), eps=1e-05, elementwise_affine=True)\n",
       "            (dropout): Dropout(p=0.1, inplace=False)\n",
       "          )\n",
       "        )\n",
       "      )\n",
       "    )\n",
       "  )\n",
       "  (dropout): Dropout(p=0.1, inplace=False)\n",
       "  (classifier): Linear(in_features=768, out_features=9, bias=True)\n",
       ")"
      ]
     },
     "execution_count": 3,
     "metadata": {},
     "output_type": "execute_result"
    }
   ],
   "source": [
    "# Load the pre-trained model and tokenizer\n",
    "model_name = 'xlm-roberta-base'  # Change this if you're using a different model\n",
    "tokenizer = XLMRobertaTokenizer.from_pretrained(model_name)\n",
    "model = XLMRobertaForTokenClassification.from_pretrained(model_name, num_labels=num_labels)  # Set number_of_labels accordingly\n",
    "\n",
    "# Move the model to the appropriate device (CPU or GPU)\n",
    "device = torch.device('cuda' if torch.cuda.is_available() else 'cpu')\n",
    "model.to(device)\n"
   ]
  },
  {
   "cell_type": "code",
   "execution_count": 4,
   "metadata": {},
   "outputs": [
    {
     "data": {
      "text/html": [
       "<div>\n",
       "<style scoped>\n",
       "    .dataframe tbody tr th:only-of-type {\n",
       "        vertical-align: middle;\n",
       "    }\n",
       "\n",
       "    .dataframe tbody tr th {\n",
       "        vertical-align: top;\n",
       "    }\n",
       "\n",
       "    .dataframe thead th {\n",
       "        text-align: right;\n",
       "    }\n",
       "</style>\n",
       "<table border=\"1\" class=\"dataframe\">\n",
       "  <thead>\n",
       "    <tr style=\"text-align: right;\">\n",
       "      <th></th>\n",
       "      <th>Formatted_Labeled_Message</th>\n",
       "    </tr>\n",
       "  </thead>\n",
       "  <tbody>\n",
       "    <tr>\n",
       "      <th>0</th>\n",
       "      <td>dell                 0          I-BRAND\\ng15  ...</td>\n",
       "    </tr>\n",
       "    <tr>\n",
       "      <th>1</th>\n",
       "      <td>asus                 0          I-BRAND\\nzeyph...</td>\n",
       "    </tr>\n",
       "    <tr>\n",
       "      <th>2</th>\n",
       "      <td>from                 0          O\\nneva       ...</td>\n",
       "    </tr>\n",
       "    <tr>\n",
       "      <th>3</th>\n",
       "      <td>may                  0          O\\n2017       ...</td>\n",
       "    </tr>\n",
       "    <tr>\n",
       "      <th>4</th>\n",
       "      <td>from                 0          O\\nneva       ...</td>\n",
       "    </tr>\n",
       "  </tbody>\n",
       "</table>\n",
       "</div>"
      ],
      "text/plain": [
       "                           Formatted_Labeled_Message\n",
       "0  dell                 0          I-BRAND\\ng15  ...\n",
       "1  asus                 0          I-BRAND\\nzeyph...\n",
       "2  from                 0          O\\nneva       ...\n",
       "3  may                  0          O\\n2017       ...\n",
       "4  from                 0          O\\nneva       ..."
      ]
     },
     "execution_count": 4,
     "metadata": {},
     "output_type": "execute_result"
    }
   ],
   "source": [
    "import pandas as pd\n",
    "labled_data=pd.read_csv(\"./data/datalabeled_messages_output.csv\")\n",
    "labled_data.head()"
   ]
  },
  {
   "cell_type": "code",
   "execution_count": 5,
   "metadata": {},
   "outputs": [
    {
     "data": {
      "text/html": [
       "<div>\n",
       "<style scoped>\n",
       "    .dataframe tbody tr th:only-of-type {\n",
       "        vertical-align: middle;\n",
       "    }\n",
       "\n",
       "    .dataframe tbody tr th {\n",
       "        vertical-align: top;\n",
       "    }\n",
       "\n",
       "    .dataframe thead th {\n",
       "        text-align: right;\n",
       "    }\n",
       "</style>\n",
       "<table border=\"1\" class=\"dataframe\">\n",
       "  <thead>\n",
       "    <tr style=\"text-align: right;\">\n",
       "      <th></th>\n",
       "      <th>Token</th>\n",
       "      <th>Position</th>\n",
       "      <th>Label</th>\n",
       "    </tr>\n",
       "  </thead>\n",
       "  <tbody>\n",
       "    <tr>\n",
       "      <th>0</th>\n",
       "      <td>dell</td>\n",
       "      <td>0</td>\n",
       "      <td>I-BRAND</td>\n",
       "    </tr>\n",
       "    <tr>\n",
       "      <th>1</th>\n",
       "      <td>g15</td>\n",
       "      <td>5</td>\n",
       "      <td>O</td>\n",
       "    </tr>\n",
       "    <tr>\n",
       "      <th>2</th>\n",
       "      <td>156</td>\n",
       "      <td>1</td>\n",
       "      <td>O</td>\n",
       "    </tr>\n",
       "    <tr>\n",
       "      <th>3</th>\n",
       "      <td>full</td>\n",
       "      <td>5</td>\n",
       "      <td>O</td>\n",
       "    </tr>\n",
       "    <tr>\n",
       "      <th>4</th>\n",
       "      <td>hd</td>\n",
       "      <td>10</td>\n",
       "      <td>O</td>\n",
       "    </tr>\n",
       "  </tbody>\n",
       "</table>\n",
       "</div>"
      ],
      "text/plain": [
       "  Token Position    Label\n",
       "0  dell        0  I-BRAND\n",
       "1   g15        5        O\n",
       "2   156        1        O\n",
       "3  full        5        O\n",
       "4    hd       10        O"
      ]
     },
     "execution_count": 5,
     "metadata": {},
     "output_type": "execute_result"
    }
   ],
   "source": [
    "def process_labeled_message(message):\n",
    "    \n",
    "    if not isinstance(message, str):\n",
    "        return pd.DataFrame(columns=['Token', 'Position', 'Label'])\n",
    "    \n",
    "   \n",
    "    lines = message.split('\\n')\n",
    "    \n",
    "   \n",
    "    tokens = []\n",
    "    positions = []\n",
    "    labels = []\n",
    "    \n",
    "    for line in lines:\n",
    "      \n",
    "        parts = line.split()\n",
    "        if len(parts) == 3:  \n",
    "            token = parts[0]\n",
    "            position = parts[1]\n",
    "            label = parts[2]\n",
    "            \n",
    "            tokens.append(token)\n",
    "            positions.append(position)\n",
    "            labels.append(label)\n",
    "    \n",
    "    return pd.DataFrame({'Token': tokens, 'Position': positions, 'Label': labels})\n",
    "\n",
    "\n",
    "processed_dfs = labled_data['Formatted_Labeled_Message'].apply(process_labeled_message)\n",
    "\n",
    "\n",
    "result_df = pd.concat(processed_dfs.values, ignore_index=True)\n",
    "\n",
    "\n",
    "result_df.head()"
   ]
  },
  {
   "cell_type": "code",
   "execution_count": 6,
   "metadata": {},
   "outputs": [
    {
     "name": "stdout",
     "output_type": "stream",
     "text": [
      "                     Sentence             Labels\n",
      "0                     d e l l      I - B R A N D\n",
      "1                       g 1 5                  O\n",
      "2                       1 5 6                  O\n",
      "3                     f u l l                  O\n",
      "4                         h d                  O\n",
      "...                       ...                ...\n",
      "145758            l a p t o p  B - P R O D U C T\n",
      "145759                  a n d                  O\n",
      "145760  a c c e s s o r i e s                  O\n",
      "145761                c a l l                  O\n",
      "145762    0 9 1 2 7 5 9 9 0 0                  O\n",
      "\n",
      "[145763 rows x 2 columns]\n",
      "145763\n"
     ]
    }
   ],
   "source": [
    "import pandas as pd\n",
    "\n",
    "# Assuming result_df contains individual tokens and their labels\n",
    "# Create a new DataFrame to hold sentences and their labels\n",
    "sentence_data = []\n",
    "\n",
    "# Iterate through each row in result_df\n",
    "for index, row in result_df.iterrows():\n",
    "    # Append the sentence and its corresponding labels\n",
    "    sentence_data.append({\n",
    "        'Sentence': ' '.join(row['Token']),  # Join tokens to form a sentence\n",
    "        'Labels': ' '.join(row['Label'])  # Join corresponding labels\n",
    "    })\n",
    "\n",
    "# Create a DataFrame from the collected sentences\n",
    "sentence_df = pd.DataFrame(sentence_data)\n",
    "\n",
    "# Print the resulting DataFrame\n",
    "print(sentence_df)\n",
    "print(len(sentence_df))  # Length of the DataFrame, i.e., number of sentences\n"
   ]
  },
  {
   "cell_type": "code",
   "execution_count": 7,
   "metadata": {},
   "outputs": [
    {
     "name": "stderr",
     "output_type": "stream",
     "text": [
      "Map: 100%|██████████| 145763/145763 [01:29<00:00, 1637.28 examples/s]"
     ]
    },
    {
     "name": "stdout",
     "output_type": "stream",
     "text": [
      "Dataset({\n",
      "    features: ['Sentence', 'Labels', 'input_ids', 'attention_mask', 'labels'],\n",
      "    num_rows: 145763\n",
      "})\n"
     ]
    },
    {
     "name": "stderr",
     "output_type": "stream",
     "text": [
      "\n"
     ]
    },
    {
     "ename": "",
     "evalue": "",
     "output_type": "error",
     "traceback": [
      "\u001b[1;31mThe Kernel crashed while executing code in the current cell or a previous cell. \n",
      "\u001b[1;31mPlease review the code in the cell(s) to identify a possible cause of the failure. \n",
      "\u001b[1;31mClick <a href='https://aka.ms/vscodeJupyterKernelCrash'>here</a> for more info. \n",
      "\u001b[1;31mView Jupyter <a href='command:jupyter.viewOutput'>log</a> for further details."
     ]
    }
   ],
   "source": [
    "from datasets import Dataset\n",
    "\n",
    "# Convert the sentence DataFrame to a Hugging Face Dataset\n",
    "huggingface_dataset = Dataset.from_pandas(sentence_df)\n",
    "\n",
    "def tokenize_and_align_labels(examples):\n",
    "    tokenized_inputs = tokenizer(examples['Sentence'], truncation=True, padding='max_length', return_tensors=\"pt\")\n",
    "\n",
    "    # Initialize labels for tokenized inputs\n",
    "    labels = []\n",
    "    \n",
    "    for i, label_sequence in enumerate(examples['Labels']):\n",
    "        label_ids = []\n",
    "        label_sequence = label_sequence.split()\n",
    "        \n",
    "        # Create a mapping from token to label\n",
    "        label_ids_map = {word: idx for idx, word in enumerate(label_sequence)}\n",
    "\n",
    "        # Align labels with tokens\n",
    "        for token in tokenizer.convert_ids_to_tokens(tokenized_inputs['input_ids'][0].tolist()):\n",
    "            if token in label_ids_map:\n",
    "                label_ids.append(label_ids_map[token])  \n",
    "            else:\n",
    "                label_ids.append(-100)  # Use -100 for tokens that don't have a label\n",
    "            \n",
    "        labels.append(label_ids)\n",
    "\n",
    "    tokenized_inputs['labels'] = labels\n",
    "    return tokenized_inputs\n",
    "\n",
    "# Apply the tokenization function to the dataset\n",
    "tokenized_dataset = huggingface_dataset.map(tokenize_and_align_labels, batched=True)\n",
    "\n",
    "# Check the tokenized dataset\n",
    "print(tokenized_dataset)\n"
   ]
  },
  {
   "cell_type": "code",
   "execution_count": 8,
   "metadata": {},
   "outputs": [
    {
     "name": "stdout",
     "output_type": "stream",
     "text": [
      "WARNING:tensorflow:From c:\\Users\\user\\AppData\\Local\\Programs\\Python\\Python312\\Lib\\site-packages\\tf_keras\\src\\losses.py:2976: The name tf.losses.sparse_softmax_cross_entropy is deprecated. Please use tf.compat.v1.losses.sparse_softmax_cross_entropy instead.\n",
      "\n"
     ]
    },
    {
     "name": "stderr",
     "output_type": "stream",
     "text": [
      "Some weights of XLMRobertaForTokenClassification were not initialized from the model checkpoint at xlm-roberta-base and are newly initialized: ['classifier.bias', 'classifier.weight']\n",
      "You should probably TRAIN this model on a down-stream task to be able to use it for predictions and inference.\n",
      "c:\\Users\\user\\AppData\\Local\\Programs\\Python\\Python312\\Lib\\site-packages\\transformers\\training_args.py:1545: FutureWarning: `evaluation_strategy` is deprecated and will be removed in version 4.46 of 🤗 Transformers. Use `eval_strategy` instead\n",
      "  warnings.warn(\n",
      "  0%|          | 0/27333 [00:00<?, ?it/s]"
     ]
    }
   ],
   "source": [
    "from transformers import XLMRobertaForTokenClassification, Trainer, TrainingArguments\n",
    "\n",
    "# Load the pre-trained model\n",
    "model = XLMRobertaForTokenClassification.from_pretrained('xlm-roberta-base', num_labels=len(set(result_df['Label'])))\n",
    "\n",
    "# Define training arguments\n",
    "training_args = TrainingArguments(\n",
    "    output_dir='./results',\n",
    "    evaluation_strategy='epoch',\n",
    "    learning_rate=2e-5,\n",
    "    per_device_train_batch_size=16,\n",
    "    per_device_eval_batch_size=16,\n",
    "    num_train_epochs=3,\n",
    "    weight_decay=0.01,\n",
    ")\n",
    "\n",
    "# Define the Trainer\n",
    "trainer = Trainer(\n",
    "    model=model,\n",
    "    args=training_args,\n",
    "    train_dataset=tokenized_dataset,\n",
    "    eval_dataset=tokenized_dataset,  # For initial testing, use the same dataset\n",
    ")\n",
    "\n",
    "# Train the model\n",
    "trainer.train()\n"
   ]
  },
  {
   "cell_type": "code",
   "execution_count": null,
   "metadata": {},
   "outputs": [],
   "source": [
    "import shap\n",
    "\n",
    "# Define a function to predict NER labels\n",
    "def predict_proba(texts):\n",
    "    # Tokenize the input texts\n",
    "    tokenized_inputs = tokenizer(texts, truncation=True, padding=True, return_tensors='pt')\n",
    "    inputs = tokenized_inputs.to(device)  # Ensure it's on the right device (CPU or GPU)\n",
    "\n",
    "    # Make predictions using the model\n",
    "    with torch.no_grad():\n",
    "        outputs = model(**inputs)\n",
    "    \n",
    "    # Softmax to get probabilities for each class\n",
    "    predictions = torch.nn.functional.softmax(outputs.logits, dim=-1)\n",
    "    \n",
    "    return predictions.cpu().numpy()  # Convert back to numpy for SHAP\n",
    "\n",
    "# Create a SHAP explainer\n",
    "explainer = shap.Explainer(predict_proba, tokenizer)\n",
    "\n",
    "# Select sample texts for explanation (choose some difficult cases or samples)\n",
    "sample_texts = ['This is a challenging sentence where John and Google are mentioned.']\n",
    "shap_values = explainer(sample_texts)\n",
    "\n",
    "# Plot the SHAP values for each sample text\n",
    "for i in range(len(sample_texts)):\n",
    "    shap.plots.text(shap_values[i])\n"
   ]
  }
 ],
 "metadata": {
  "kernelspec": {
   "display_name": "Python 3",
   "language": "python",
   "name": "python3"
  },
  "language_info": {
   "codemirror_mode": {
    "name": "ipython",
    "version": 3
   },
   "file_extension": ".py",
   "mimetype": "text/x-python",
   "name": "python",
   "nbconvert_exporter": "python",
   "pygments_lexer": "ipython3",
   "version": "3.12.5"
  }
 },
 "nbformat": 4,
 "nbformat_minor": 2
}
